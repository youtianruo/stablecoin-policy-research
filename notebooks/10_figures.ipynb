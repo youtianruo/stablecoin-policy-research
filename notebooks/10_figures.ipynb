{
  "cells": [
    {
      "cell_type": "markdown",
      "metadata": {},
      "source": [
        "# Stablecoin Policy Research - Figures and Visualizations\n",
        "\n",
        "This notebook generates publication-ready figures for the stablecoin policy research.\n",
        "\n",
        "## Figures Generated\n",
        "\n",
        "1. **Event Study Results**: Cumulative abnormal returns and buy-and-hold abnormal returns\n",
        "2. **Volatility Analysis**: GARCH model results and abnormal volatility\n",
        "3. **Policy Transmission**: VAR impulse response functions\n",
        "4. **Market Dynamics**: Stablecoin behavior around policy events\n",
        "5. **Summary Statistics**: Key findings and robustness checks\n"
      ]
    },
    {
      "cell_type": "code",
      "execution_count": null,
      "metadata": {},
      "outputs": [],
      "source": [
        "# Import libraries\n",
        "import pandas as pd\n",
        "import numpy as np\n",
        "import matplotlib.pyplot as plt\n",
        "import seaborn as sns\n",
        "import plotly.express as px\n",
        "import plotly.graph_objects as go\n",
        "from plotly.subplots import make_subplots\n",
        "import warnings\n",
        "warnings.filterwarnings('ignore')\n",
        "\n",
        "# Set publication-quality plotting parameters\n",
        "plt.rcParams.update({\n",
        "    'figure.figsize': (12, 8),\n",
        "    'figure.dpi': 300,\n",
        "    'font.size': 12,\n",
        "    'axes.titlesize': 14,\n",
        "    'axes.labelsize': 12,\n",
        "    'xtick.labelsize': 10,\n",
        "    'ytick.labelsize': 10,\n",
        "    'legend.fontsize': 10,\n",
        "    'figure.titlesize': 16\n",
        "})\n",
        "\n",
        "# Import project modules\n",
        "import sys\n",
        "sys.path.append('../src')\n",
        "from utils.config import load_config\n",
        "from utils.io import load_data, save_data\n",
        "\n",
        "# Load configuration\n",
        "config = load_config('../configs/config.yaml')\n"
      ]
    }
  ],
  "metadata": {
    "language_info": {
      "name": "python"
    }
  },
  "nbformat": 4,
  "nbformat_minor": 2
}
