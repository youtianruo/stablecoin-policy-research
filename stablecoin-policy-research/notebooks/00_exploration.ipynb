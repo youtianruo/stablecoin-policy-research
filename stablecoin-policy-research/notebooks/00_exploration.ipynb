{
  "cells": [
    {
      "cell_type": "markdown",
      "metadata": {},
      "source": [
        "# Stablecoin Policy Research - Data Exploration\n",
        "\n",
        "This notebook provides an initial exploration of the stablecoin market data and policy events.\n",
        "\n",
        "## Objectives\n",
        "\n",
        "1. **Data Overview**: Examine the structure and quality of collected data\n",
        "2. **Market Behavior**: Analyze stablecoin price dynamics and peg deviations\n",
        "3. **Policy Events**: Identify and categorize Federal Reserve policy events\n",
        "4. **Preliminary Analysis**: Initial insights into market-policy relationships\n",
        "\n",
        "## Data Sources\n",
        "\n",
        "- **Stablecoin Prices**: CoinGecko API\n",
        "- **Policy Events**: Federal Reserve announcements and speeches\n",
        "- **Macro Indicators**: FRED database\n",
        "- **Market Data**: Yahoo Finance\n"
      ]
    },
    {
      "cell_type": "code",
      "execution_count": null,
      "metadata": {},
      "outputs": [],
      "source": [
        "# Import libraries\n",
        "import pandas as pd\n",
        "import numpy as np\n",
        "import matplotlib.pyplot as plt\n",
        "import seaborn as sns\n",
        "import plotly.express as px\n",
        "import plotly.graph_objects as go\n",
        "from plotly.subplots import make_subplots\n",
        "import warnings\n",
        "warnings.filterwarnings('ignore')\n",
        "\n",
        "# Set plotting style\n",
        "plt.style.use('seaborn-v0_8')\n",
        "sns.set_palette(\"husl\")\n",
        "\n",
        "# Import project modules\n",
        "import sys\n",
        "sys.path.append('../src')\n",
        "from utils.config import load_config\n",
        "from utils.io import load_data, save_data\n",
        "\n",
        "# Load configuration\n",
        "config = load_config('../configs/config.yaml')\n"
      ]
    },
    {
      "cell_type": "markdown",
      "metadata": {},
      "source": [
        "## 1. Data Loading and Overview\n"
      ]
    },
    {
      "cell_type": "code",
      "execution_count": null,
      "metadata": {},
      "outputs": [],
      "source": [
        "# Load stablecoin price data\n",
        "try:\n",
        "    stablecoin_prices = load_data('stablecoin_prices', config['data']['processed_dir'])\n",
        "    print(\"Stablecoin prices loaded successfully\")\n",
        "    print(f\"Shape: {stablecoin_prices.shape}\")\n",
        "    print(f\"Date range: {stablecoin_prices.index.min()} to {stablecoin_prices.index.max()}\")\n",
        "    print(f\"Stablecoins: {list(stablecoin_prices.columns)}\")\n",
        "except FileNotFoundError:\n",
        "    print(\"Stablecoin price data not found. Run data ingestion first.\")\n",
        "    stablecoin_prices = None\n",
        "\n",
        "# Load policy events data\n",
        "try:\n",
        "    policy_events = load_data('policy_events', config['data']['processed_dir'])\n",
        "    print(\"\\nPolicy events loaded successfully\")\n",
        "    print(f\"Shape: {policy_events.shape}\")\n",
        "    print(f\"Event types: {policy_events['event_type'].unique()}\")\n",
        "except FileNotFoundError:\n",
        "    print(\"Policy events data not found. Run data ingestion first.\")\n",
        "    policy_events = None\n"
      ]
    },
    {
      "cell_type": "markdown",
      "metadata": {},
      "source": [
        "## 2. Stablecoin Price Analysis\n"
      ]
    },
    {
      "cell_type": "code",
      "execution_count": null,
      "metadata": {},
      "outputs": [],
      "source": [
        "if stablecoin_prices is not None:\n",
        "    # Calculate peg deviations\n",
        "    peg_deviations = stablecoin_prices - 1.0\n",
        "    \n",
        "    # Summary statistics\n",
        "    print(\"Peg Deviation Statistics:\")\n",
        "    print(peg_deviations.describe())\n",
        "    \n",
        "    # Plot price evolution\n",
        "    fig, axes = plt.subplots(2, 2, figsize=(15, 10))\n",
        "    \n",
        "    # Price levels\n",
        "    stablecoin_prices.plot(ax=axes[0, 0], title='Stablecoin Prices')\n",
        "    axes[0, 0].axhline(y=1.0, color='red', linestyle='--', alpha=0.7)\n",
        "    axes[0, 0].set_ylabel('Price (USD)')\n",
        "    \n",
        "    # Peg deviations\n",
        "    peg_deviations.plot(ax=axes[0, 1], title='Peg Deviations')\n",
        "    axes[0, 1].axhline(y=0, color='red', linestyle='--', alpha=0.7)\n",
        "    axes[0, 1].set_ylabel('Deviation from $1.00')\n",
        "    \n",
        "    # Volatility (rolling standard deviation)\n",
        "    volatility = stablecoin_prices.pct_change().rolling(30).std()\n",
        "    volatility.plot(ax=axes[1, 0], title='30-Day Rolling Volatility')\n",
        "    axes[1, 0].set_ylabel('Volatility')\n",
        "    \n",
        "    # Distribution of peg deviations\n",
        "    peg_deviations.hist(bins=50, ax=axes[1, 1], alpha=0.7)\n",
        "    axes[1, 1].set_title('Distribution of Peg Deviations')\n",
        "    axes[1, 1].set_xlabel('Deviation from $1.00')\n",
        "    \n",
        "    plt.tight_layout()\n",
        "    plt.show()\n",
        "else:\n",
        "    print(\"No stablecoin price data available for analysis\")\n"
      ]
    }
  ],
  "metadata": {
    "language_info": {
      "name": "python"
    }
  },
  "nbformat": 4,
  "nbformat_minor": 2
}
